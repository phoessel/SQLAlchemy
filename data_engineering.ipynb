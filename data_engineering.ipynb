{
 "cells": [
  {
   "cell_type": "code",
   "execution_count": 6,
   "metadata": {
    "collapsed": true
   },
   "outputs": [],
   "source": [
    "import pandas as pd\n",
    "import os"
   ]
  },
  {
   "cell_type": "code",
   "execution_count": 7,
   "metadata": {},
   "outputs": [],
   "source": [
    "stations_path = os.path.join(\"C:/\", \"Resources\", \"hawaii_stations.csv\")\n",
    "stations_df = pd.read_csv(stations_path)\n",
    "#stations_df\n",
    "hstations = stations_df.dropna().reset_index(drop=True)\n",
    "hstations\n",
    "hstations.to_csv(\"clean_hawaii_stations.csv\", index=False)"
   ]
  },
  {
   "cell_type": "code",
   "execution_count": 8,
   "metadata": {
    "collapsed": true
   },
   "outputs": [],
   "source": [
    "measurements_path = os.path.join(\"C:/\", \"Resources\", \"hawaii_measurements.csv\")\n",
    "measurements_df = pd.read_csv(measurements_path)\n",
    "#measurements_df\n",
    "hmeasure = measurements_df.dropna().reset_index(drop=True)\n",
    "hmeasure\n",
    "hmeasure.to_csv(\"clean_hawaii_measurements.csv\", index=False)"
   ]
  }
 ],
 "metadata": {
  "kernelspec": {
   "display_name": "Python 3",
   "language": "python",
   "name": "python3"
  },
  "language_info": {
   "codemirror_mode": {
    "name": "ipython",
    "version": 3
   },
   "file_extension": ".py",
   "mimetype": "text/x-python",
   "name": "python",
   "nbconvert_exporter": "python",
   "pygments_lexer": "ipython3",
   "version": "3.6.2"
  }
 },
 "nbformat": 4,
 "nbformat_minor": 2
}
